{
 "cells": [
  {
   "cell_type": "markdown",
   "id": "a1789876",
   "metadata": {},
   "source": [
    "## Numpy Basics \n",
    "Learn About Numpy"
   ]
  },
  {
   "cell_type": "code",
   "execution_count": 1,
   "id": "c8a017a0",
   "metadata": {},
   "outputs": [],
   "source": [
    "import numpy as np"
   ]
  },
  {
   "cell_type": "code",
   "execution_count": 2,
   "id": "38e27c5a",
   "metadata": {},
   "outputs": [
    {
     "name": "stdout",
     "output_type": "stream",
     "text": [
      "1D Array :  [1 2 3 4 5] \n",
      "\n",
      "2D Array :  [[1 2 3 4 5]\n",
      " [6 7 8 9 0]]\n"
     ]
    }
   ],
   "source": [
    "# creating Array From List\n",
    "\n",
    "arr_1d = np.array([1,2,3,4,5])\n",
    "print(\"1D Array : \",arr_1d,\"\\n\")\n",
    "\n",
    "arr_2d = np.array([[1,2,3,4,5],[6,7,8,9,0]])\n",
    "print(\"2D Array : \",arr_2d)"
   ]
  },
  {
   "cell_type": "markdown",
   "id": "d35e5c96",
   "metadata": {},
   "source": [
    "## List Vs Numpy\n"
   ]
  },
  {
   "cell_type": "code",
   "execution_count": 3,
   "id": "71873f18",
   "metadata": {},
   "outputs": [
    {
     "name": "stdout",
     "output_type": "stream",
     "text": [
      "Multiplication Of List :  [1, 2, 3, 4, 5, 1, 2, 3, 4, 5]\n",
      "Multiplication Of Numpy Array :  [ 2  4  6  8 10]\n"
     ]
    }
   ],
   "source": [
    "py_list = [1,2,3,4,5]\n",
    "print(\"Multiplication Of List : \", py_list*2)\n",
    "\n",
    "numpy_arry = np.array([1,2,3,4,5])\n",
    "print(\"Multiplication Of Numpy Array : \", numpy_arry*2)"
   ]
  },
  {
   "cell_type": "code",
   "execution_count": 4,
   "id": "75b42d7b",
   "metadata": {},
   "outputs": [
    {
     "name": "stdout",
     "output_type": "stream",
     "text": [
      "Creating  Python List Time :  1.0029993057250977\n",
      "Creating  Python Numpy Array Time :  0.15096068382263184\n"
     ]
    }
   ],
   "source": [
    "import time\n",
    "\n",
    "start_time = time.time()\n",
    "list_py = [i*2 for i in range (1000000)]\n",
    "print(\"Creating  Python List Time : \", time.time() - start_time)\n",
    "\n",
    "start_time = time.time()\n",
    "array_numpy = np.arange(1000000) * 2\n",
    "print(\"Creating  Python Numpy Array Time : \", time.time() - start_time)"
   ]
  },
  {
   "cell_type": "code",
   "execution_count": 5,
   "id": "d691d07a",
   "metadata": {},
   "outputs": [
    {
     "name": "stdout",
     "output_type": "stream",
     "text": [
      "[[0. 0. 0. 0. 0.]\n",
      " [0. 0. 0. 0. 0.]\n",
      " [0. 0. 0. 0. 0.]]\n",
      "[[1. 1. 1. 1.]\n",
      " [1. 1. 1. 1.]\n",
      " [1. 1. 1. 1.]]\n",
      "[[7 7 7]\n",
      " [7 7 7]]\n"
     ]
    },
    {
     "name": "stdout",
     "output_type": "stream",
     "text": [
      "[[4.06504794e-05 2.68004782e-01 1.04414169e-01]\n",
      " [1.34492210e-01 5.94610719e-01 1.52115994e-01]]\n",
      "[1 3 5 7 9]\n"
     ]
    }
   ],
   "source": [
    "zero_arr = np.zeros((3,5))\n",
    "print(zero_arr)\n",
    "\n",
    "one_arr = np.ones((3,4))\n",
    "print(one_arr)\n",
    "\n",
    "full_arr = np.full((2,3), 7)\n",
    "print(full_arr)\n",
    "\n",
    "random_arr = np.random.random((2,3))\n",
    "print(random_arr)\n",
    "\n",
    "sequence_arr = np.arange(1,10,2)\n",
    "print(sequence_arr)"
   ]
  },
  {
   "cell_type": "markdown",
   "id": "1986de2b",
   "metadata": {},
   "source": [
    "## Vector, Matrix, Tensor\n"
   ]
  },
  {
   "cell_type": "code",
   "execution_count": 6,
   "id": "666ab60d",
   "metadata": {},
   "outputs": [
    {
     "name": "stdout",
     "output_type": "stream",
     "text": [
      "Vector :  [1 2 3 4 5]\n",
      "Matrix :  [[1 2 3 4]\n",
      " [5 6 7 8]]\n",
      "Tensor :  [[[1 2 3]\n",
      "  [0 9 8]]\n",
      "\n",
      " [[4 5 6]\n",
      "  [8 8 0]]]\n"
     ]
    }
   ],
   "source": [
    "vector = np.array([1,2,3,4,5])\n",
    "print(\"Vector : \", vector)\n",
    "\n",
    "matrix = np.array([[1,2,3,4],[5,6,7,8]])\n",
    "print(\"Matrix : \", matrix)\n",
    "\n",
    "tensor = np.array([[[1,2,3],[0,9,8]],[[4,5,6],[8,8,0]]])\n",
    "print(\"Tensor : \", tensor)"
   ]
  },
  {
   "cell_type": "markdown",
   "id": "5fe0143b",
   "metadata": {},
   "source": [
    "## Array Properties"
   ]
  },
  {
   "cell_type": "code",
   "execution_count": 7,
   "id": "500be495",
   "metadata": {},
   "outputs": [
    {
     "name": "stdout",
     "output_type": "stream",
     "text": [
      "How many row and column (row,column) :  (2, 4)\n",
      "How many row and column (row,column) :  (2, 4)\n",
      "Total Element in Array :  8\n",
      "Total Element in Array :  8\n",
      "Now Many Dimantion Of Array :  2\n",
      "Now Many Dimantion Of Array :  2\n",
      "DataType type of array :  int64\n"
     ]
    }
   ],
   "source": [
    "new_arr = np.array([[1,2,3,4],[5,6,7,8]])\n",
    "print(\"How many row and column (row,column) : \",np.shape(new_arr))\n",
    "print(\"How many row and column (row,column) : \",new_arr.shape)\n",
    "\n",
    "print(\"Total Element in Array : \",np.size(new_arr))\n",
    "print(\"Total Element in Array : \",new_arr.size)\n",
    "\n",
    "print(\"Now Many Dimantion Of Array : \",np.ndim(new_arr))\n",
    "print(\"Now Many Dimantion Of Array : \",new_arr.ndim)\n",
    "\n",
    "print(\"DataType type of array : \", new_arr.dtype)"
   ]
  },
  {
   "cell_type": "markdown",
   "id": "6a5ca3dc",
   "metadata": {},
   "source": [
    "## Array Reshaping"
   ]
  },
  {
   "cell_type": "code",
   "execution_count": 8,
   "id": "9a74a133",
   "metadata": {},
   "outputs": [
    {
     "name": "stdout",
     "output_type": "stream",
     "text": [
      "[[1 2 3 4]\n",
      " [0 1 5 6]\n",
      " [7 8 9 0]]\n",
      "[[ 0  1  2  3]\n",
      " [ 4  5  6  7]\n",
      " [ 8  9 10 11]]\n",
      "N dimension Array Convert into single array :  [1 2 3 4 0 1 5 6 7 8 9 0]\n",
      "After Change in flatten array no changes in origional array :  [[1 2 3 4 0 1]\n",
      " [5 6 7 8 9 0]]\n",
      "[1 2 3 4 0 1 5 6 7 8 9 0]\n",
      "After Change in ravel array it change the original array :  [[99  2  3  4  0  1]\n",
      " [ 5  6  7  8  9  0]]\n"
     ]
    }
   ],
   "source": [
    "new_arr = np.array([[1,2,3,4,0,1],[5,6,7,8,9,0]])\n",
    "print(new_arr.reshape(3,4))\n",
    "\n",
    "\n",
    "arr_n = np.arange(12)\n",
    "print(arr_n.reshape(3,4))\n",
    "\n",
    "flattend_arr = new_arr.flatten()\n",
    "print(\"N dimension Array Convert into single array : \", flattend_arr)\n",
    "# Flatten make a copy of original array, mean if we change fltten array then no changes in original array \n",
    "flattend_arr[0]=10\n",
    "print(\"After Change in flatten array no changes in origional array : \",new_arr)\n",
    "\n",
    "raveld_Arr = new_arr.ravel()\n",
    "print(raveld_Arr)\n",
    "\n",
    "# reval return the original array, it mean if we change any element in ravel array then reval change the original array \n",
    "raveld_Arr[0]=99\n",
    "print(\"After Change in ravel array it change the original array : \",new_arr)"
   ]
  },
  {
   "cell_type": "code",
   "execution_count": 9,
   "id": "1d8f9087",
   "metadata": {},
   "outputs": [
    {
     "name": "stdout",
     "output_type": "stream",
     "text": [
      "Original Array :  [ 0  1  2  3  4  5  6  7  8  9 10 11]\n",
      "\n",
      "Reshape :  [[ 0  1  2  3]\n",
      " [ 4  5  6  7]\n",
      " [ 8  9 10 11]]\n",
      "\n",
      "Transpose Array :  [[ 0  4  8]\n",
      " [ 1  5  9]\n",
      " [ 2  6 10]\n",
      " [ 3  7 11]]\n"
     ]
    }
   ],
   "source": [
    "arr_n = np.arange(12)\n",
    "print(\"Original Array : \", arr_n)\n",
    "\n",
    "reshaped_Arr = arr_n.reshape(3,4)\n",
    "print(\"\\nReshape : \", reshaped_Arr)\n",
    "\n",
    "# Transpose  , it mean if (row,column) then row convert into column and column convert into row e.g. Arr = (3,4), Trand_Arr = (4,3)\n",
    "transpose_arr = reshaped_Arr.T\n",
    "print(\"\\nTranspose Array : \",transpose_arr)"
   ]
  },
  {
   "cell_type": "code",
   "execution_count": null,
   "id": "605e7be8",
   "metadata": {},
   "outputs": [],
   "source": []
  }
 ],
 "metadata": {
  "kernelspec": {
   "display_name": "venv",
   "language": "python",
   "name": "python3"
  },
  "language_info": {
   "codemirror_mode": {
    "name": "ipython",
    "version": 3
   },
   "file_extension": ".py",
   "mimetype": "text/x-python",
   "name": "python",
   "nbconvert_exporter": "python",
   "pygments_lexer": "ipython3",
   "version": "3.12.10"
  }
 },
 "nbformat": 4,
 "nbformat_minor": 5
}
