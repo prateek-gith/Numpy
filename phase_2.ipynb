{
 "cells": [
  {
   "cell_type": "markdown",
   "id": "7ba42b0c",
   "metadata": {},
   "source": [
    "## Numpy Array Operation"
   ]
  },
  {
   "cell_type": "code",
   "execution_count": 2,
   "id": "bf7348e3",
   "metadata": {},
   "outputs": [],
   "source": [
    "import numpy as np"
   ]
  },
  {
   "cell_type": "code",
   "execution_count": 3,
   "id": "e10980a7",
   "metadata": {},
   "outputs": [
    {
     "name": "stdout",
     "output_type": "stream",
     "text": [
      "Basics Slicing :  [2 3 4 5 6]\n",
      "Basics Slicing  With Step :  [0 2 4 6]\n",
      "Basics Slicing  With Negative Indexing :  9\n"
     ]
    }
   ],
   "source": [
    "my_Arr = np.arange(10)\n",
    "\n",
    "print(\"Basics Slicing : \", my_Arr[2:7])\n",
    "print(\"Basics Slicing  With Step : \", my_Arr[0:7:2])\n",
    "print(\"Basics Slicing  With Negative Indexing : \", my_Arr[-1])"
   ]
  },
  {
   "cell_type": "code",
   "execution_count": 4,
   "id": "376ddfb8",
   "metadata": {},
   "outputs": [
    {
     "name": "stdout",
     "output_type": "stream",
     "text": [
      "Specific Element :  9\n",
      "Entire Row :  [4 5 6]\n",
      "Entire Column :  [2 5 8]\n"
     ]
    }
   ],
   "source": [
    "arr_2d = np.array([[1,2,3],[4,5,6],[7,8,9]])\n",
    "print(\"Specific Element : \", arr_2d[2,2])\n",
    "print(\"Entire Row : \", arr_2d[1])\n",
    "print(\"Entire Column : \", arr_2d[:,1])"
   ]
  },
  {
   "cell_type": "markdown",
   "id": "d20b18fa",
   "metadata": {},
   "source": [
    "# Sorting"
   ]
  },
  {
   "cell_type": "code",
   "execution_count": 5,
   "id": "6d07a98b",
   "metadata": {},
   "outputs": [
    {
     "name": "stdout",
     "output_type": "stream",
     "text": [
      "Sorted Array :  [0 1 2 3 4 5 6 7 8 9]\n",
      "Sorted 2D array by Column :  [[3 0]\n",
      " [4 1]\n",
      " [9 8]]\n",
      "Sorted 2D array by Row :  [[1 3]\n",
      " [4 8]\n",
      " [0 9]]\n"
     ]
    }
   ],
   "source": [
    "unsorted_Array = np.array([4,6,8,2,5,1,9,0,3,7])\n",
    "print(\"Sorted Array : \", np.sort(unsorted_Array))\n",
    "\n",
    "\n",
    "unsorted_2d = np.array([[3,1],[4,8],[9,0]])\n",
    "print(\"Sorted 2D array by Column : \", np.sort(unsorted_2d, axis=0))\n",
    "print(\"Sorted 2D array by Row : \", np.sort(unsorted_2d, axis=1))"
   ]
  },
  {
   "cell_type": "markdown",
   "id": "948c6cb1",
   "metadata": {},
   "source": [
    "## Filtering"
   ]
  },
  {
   "cell_type": "code",
   "execution_count": 6,
   "id": "d3309402",
   "metadata": {},
   "outputs": [
    {
     "name": "stdout",
     "output_type": "stream",
     "text": [
      "[ 1  2  3  4  5  6  7  8  9 10]\n",
      "Even Number :  [ 2  4  6  8 10]\n",
      "Even Number Using One Line :  [ 2  4  6  8 10]\n"
     ]
    }
   ],
   "source": [
    "numbers = np.arange(1,11)\n",
    "print(numbers)\n",
    "\n",
    "#  this is Called Filtering With Mask\n",
    "# this called MASK\n",
    "even_number = numbers %2 == 0\n",
    "# even_number Return [ture false true false] like this which condithin satisfied \"numbers %2 == 0\" it return true otherwise false \n",
    "# when we perform \"numbers[even_number]\"  then which value is true it return \n",
    "print(\"Even Number : \",numbers[even_number])\n",
    "\n",
    "print(\"Even Number Using One Line : \", numbers[numbers %2 == 0])"
   ]
  },
  {
   "cell_type": "markdown",
   "id": "cdfbf0a3",
   "metadata": {},
   "source": [
    "## Fancy Indexing VS np.Where()"
   ]
  },
  {
   "cell_type": "code",
   "execution_count": 7,
   "id": "6cf48a04",
   "metadata": {},
   "outputs": [
    {
     "name": "stdout",
     "output_type": "stream",
     "text": [
      "Print Element Using Fancy Indexing Fancy Indexing :  [1 4 6 8]\n",
      "Using np.where()  it Return The Indexing Value of Given Array :  (array([2, 5, 8]),)\n",
      "Using np.where() Result :  [3 6 9]\n",
      "We can perform Direct In One lIne Of Code  :  [ 6  7  8  9 10]\n"
     ]
    }
   ],
   "source": [
    "indexing_value = [0,3,5,7]\n",
    "print(\"Print Element Using Fancy Indexing Fancy Indexing : \", numbers[indexing_value])\n",
    "\n",
    "# Using np.where()\n",
    "\n",
    "using_where = np.where(numbers %3 == 0)\n",
    "print(\"Using np.where()  it Return The Indexing Value of Given Array : \", using_where)\n",
    "print(\"Using np.where() Result : \", numbers[using_where])\n",
    "print(\"We can perform Direct In One lIne Of Code  : \",numbers[np.where(numbers>5)])"
   ]
  },
  {
   "cell_type": "code",
   "execution_count": 8,
   "id": "7348af39",
   "metadata": {},
   "outputs": [
    {
     "name": "stdout",
     "output_type": "stream",
     "text": [
      "[ 1  2  3  4  5 30 35 40 45 50]\n"
     ]
    }
   ],
   "source": [
    "# If the condition is True, use value from x, else use value from y.\n",
    "# np.where(condition, x, y)\n",
    "# it devide array into two part x, y,   x mean which is satisfied the condition (numbers>5), y mean which is not satisfied the condition \n",
    "# then we give second parameter \"numbers*5\" (it mean where true then numbers multiply by 5) \n",
    "# third parameter \"numbers\" (where false return numbers)\n",
    "\n",
    "# numbers vale array me jo element \"numbers>5\" conditon ko satisfied krte h unme \"numbers*5\" kr do jo satisfied nhi krte h unko jo \"numbers\" ki value h original return kr do \n",
    "condition_arr = np.where(numbers>5, numbers*5,  numbers)\n",
    "print(condition_arr)"
   ]
  },
  {
   "cell_type": "markdown",
   "id": "80baedb2",
   "metadata": {},
   "source": [
    "## Adding And Remove Element From np.array()"
   ]
  },
  {
   "cell_type": "code",
   "execution_count": 9,
   "id": "72e24ade",
   "metadata": {},
   "outputs": [
    {
     "name": "stdout",
     "output_type": "stream",
     "text": [
      "[1 2 3 4 5 6]\n"
     ]
    }
   ],
   "source": [
    "array_np_1 = np.array([1,2,3])\n",
    "array_np_2 = np.array([4,5,6])\n",
    "\n",
    "combine_Array = np.concatenate((array_np_1, array_np_2))\n",
    "print(combine_Array)"
   ]
  },
  {
   "cell_type": "markdown",
   "id": "f24adcda",
   "metadata": {},
   "source": [
    "#### checking the shapr of array"
   ]
  },
  {
   "cell_type": "code",
   "execution_count": 10,
   "id": "58068868",
   "metadata": {},
   "outputs": [
    {
     "name": "stdout",
     "output_type": "stream",
     "text": [
      "Compatibale or not :  False\n"
     ]
    }
   ],
   "source": [
    "array_1 = np.array([1,2,3,4])\n",
    "array_2 = np.array([1,2,3,4,5])\n",
    "\n",
    "print(\"Compatibale or not : \", array_1.shape == array_2.shape)"
   ]
  },
  {
   "cell_type": "markdown",
   "id": "5734b261",
   "metadata": {},
   "source": [
    "#### Adding Row Or Column"
   ]
  },
  {
   "cell_type": "code",
   "execution_count": 11,
   "id": "5532e7e9",
   "metadata": {},
   "outputs": [
    {
     "name": "stdout",
     "output_type": "stream",
     "text": [
      "add a new row : [[1 2]\n",
      " [3 4]\n",
      " [5 6]]\n",
      "add a new column :  [[1 2 5]\n",
      " [3 4 6]]\n"
     ]
    }
   ],
   "source": [
    "arr = np.array([[1,2],[3,4]])\n",
    "arr_2 = np.array([5,6])\n",
    "\n",
    "add_in_row = np.vstack((arr, arr_2))\n",
    "print(\"add a new row :\", add_in_row)\n",
    "\n",
    "arr_3 = np.array([[5],[6]])\n",
    "add_in_coumn = np.hstack((arr, arr_3))\n",
    "print(\"add a new column : \", add_in_coumn)"
   ]
  },
  {
   "cell_type": "markdown",
   "id": "2e4f92af",
   "metadata": {},
   "source": [
    "##### Delete From Array"
   ]
  },
  {
   "cell_type": "code",
   "execution_count": null,
   "id": "d311b0fc",
   "metadata": {},
   "outputs": [
    {
     "name": "stdout",
     "output_type": "stream",
     "text": [
      "[1 2 4 5 6 7]\n"
     ]
    }
   ],
   "source": [
    "original_arr = np.array([1,2,3,4,5,6,7])\n",
    "# syntax : np.delete(array, index)\n",
    "deleted_array = np.delete(original_arr, 2)\n",
    "print(deleted_array)"
   ]
  },
  {
   "cell_type": "code",
   "execution_count": 18,
   "id": "e4ec528f",
   "metadata": {},
   "outputs": [
    {
     "name": "stdout",
     "output_type": "stream",
     "text": [
      "[10 60 70]\n"
     ]
    }
   ],
   "source": [
    "arr = np.array([10, 20, 30, 40, 50, 60, 70])\n",
    "# Delete elements from index 1 to 5 (i.e., 20 to 50)\n",
    "new_arr = np.delete(arr, np.s_[1:5])\n",
    "\n",
    "print(new_arr)"
   ]
  },
  {
   "cell_type": "code",
   "execution_count": 21,
   "id": "86a1e013",
   "metadata": {},
   "outputs": [
    {
     "name": "stdout",
     "output_type": "stream",
     "text": [
      "arr_2d  [[1 2 3]\n",
      " [4 5 6]\n",
      " [7 8 9]]\n",
      "\n",
      "new_arr_delete_from_row [[1 2 3]\n",
      " [7 8 9]]\n",
      "\n",
      " delete_from_column [[2 3]\n",
      " [5 6]\n",
      " [8 9]]\n"
     ]
    }
   ],
   "source": [
    "arr_2d = np.array([[1, 2, 3],\n",
    "                [4, 5, 6],\n",
    "                [7, 8, 9]])\n",
    "print(\"arr_2d \", arr_2d)\n",
    "new_arr_delete_from_row = np.delete(arr_2d, 1, axis=0)  # Delete row at index 1\n",
    "\n",
    "print(\"\\nnew_arr_delete_from_row\",new_arr_delete_from_row)\n",
    "\n",
    "delete_from_column = np.delete(arr_2d, 0, axis=1)  # Delete column at index 0\n",
    "\n",
    "print(\"\\n delete_from_column\",delete_from_column)\n"
   ]
  }
 ],
 "metadata": {
  "kernelspec": {
   "display_name": "venv",
   "language": "python",
   "name": "python3"
  },
  "language_info": {
   "codemirror_mode": {
    "name": "ipython",
    "version": 3
   },
   "file_extension": ".py",
   "mimetype": "text/x-python",
   "name": "python",
   "nbconvert_exporter": "python",
   "pygments_lexer": "ipython3",
   "version": "3.12.10"
  }
 },
 "nbformat": 4,
 "nbformat_minor": 5
}
